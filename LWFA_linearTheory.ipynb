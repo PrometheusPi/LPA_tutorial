{
 "cells": [
  {
   "cell_type": "code",
   "execution_count": 1,
   "metadata": {
    "ExecuteTime": {
     "end_time": "2021-11-19T09:12:29.202039Z",
     "start_time": "2021-11-19T09:12:26.605306Z"
    }
   },
   "outputs": [],
   "source": [
    "import numpy as np\n",
    "import matplotlib.pyplot as plt\n",
    "%matplotlib inline\n",
    "import scipy.constants as const\n",
    "from scipy.integrate import odeint"
   ]
  },
  {
   "cell_type": "markdown",
   "metadata": {},
   "source": [
    "For more details, please read:\n",
    "> **Synthetic radiation diagnostics as a pathway for studying plasma dynamics - from advanced accelerators to astrophysical observations**\n",
    "Pausch, R. (2019) PhD Thesis\n",
    "https://doi.org/10.5281/zenodo.3616045\n",
    "\n",
    "section **6.2.2**"
   ]
  },
  {
   "cell_type": "markdown",
   "metadata": {},
   "source": [
    "# Fundamental parameters\n",
    "\n",
    "## user parameters\n",
    "\n",
    "- $n_e$ electron (base) density\n",
    "- $a_0 = \\frac{q_e \\cdot E}{m_e \\cdot c \\cdot \\omega_0}$ normalized laser field strength (maximum value of laser)\n",
    "- $E$ electric field (in above case at maximum intensity of laser)\n",
    "- $m_e$ electron mass\n",
    "- $c$ speed of light\n",
    "- $\\omega_0 = \\frac{2 \\pi c}{\\lambda_0}$ laser frequency\n",
    "- $\\lambda_0$ laser wavelength\n",
    "- $\\tau = \\tau_t \\cdot c$ laser pulse length\n",
    "- $\\tau_t$ laser pulse duration\n",
    "\n"
   ]
  },
  {
   "cell_type": "code",
   "execution_count": 2,
   "metadata": {
    "ExecuteTime": {
     "end_time": "2021-11-19T09:12:29.214105Z",
     "start_time": "2021-11-19T09:12:29.206188Z"
    }
   },
   "outputs": [],
   "source": [
    "# (base) electron density:\n",
    "n_e = 1.0e18*1e6 # [m^-3]\n",
    "\n",
    "# normalized laser strength (peak of laser pulse)\n",
    "a0 = 1.5\n",
    "\n",
    "# laser wavelength:\n",
    "lambda_0 = 0.8e-6 # [m]\n",
    "\n",
    "# laser pulse length\n",
    "tau = 15e-15*const.speed_of_light # [m]"
   ]
  },
  {
   "cell_type": "markdown",
   "metadata": {},
   "source": [
    "## derived quantities\n",
    "- $\\omega_\\mathrm{pe}= \\sqrt{\\frac{n_e q_e^2}{\\varepsilon_0 m_e}}$ plasma frequency\n",
    "- $\\varepsilon_0$ vacuum permittivity\n",
    "- $\\omega_0$ *see above*\n",
    "- $v_g = c \\cdot \\sqrt{1 - \\frac{\\omega_\\mathrm{pe}^2}{\\omega_0^2}}$ laser group velocity"
   ]
  },
  {
   "cell_type": "code",
   "execution_count": 3,
   "metadata": {
    "ExecuteTime": {
     "end_time": "2021-11-19T09:12:29.234034Z",
     "start_time": "2021-11-19T09:12:29.227785Z"
    }
   },
   "outputs": [
    {
     "name": "stdout",
     "output_type": "stream",
     "text": [
      "speed of laser with respect to speed of light in vacuum: 0.9997129257495452\n"
     ]
    }
   ],
   "source": [
    "# plasma freqency [s^-1]\n",
    "omega_pe = np.sqrt((n_e * const.elementary_charge**2)/(const.electron_mass * const.epsilon_0))\n",
    "\n",
    "# laser frequency [s^-1]\n",
    "omega_0 = 2. * np.pi * const.speed_of_light / lambda_0\n",
    "\n",
    "# laser group velocity [m/s]\n",
    "v_g = const.speed_of_light * np.sqrt(1. - omega_pe**2 / omega_0**2)\n",
    "print(\"speed of laser with respect to speed of light in vacuum:\", v_g / const.speed_of_light)"
   ]
  },
  {
   "cell_type": "markdown",
   "metadata": {},
   "source": [
    "assumption:\n",
    "$v_g \\approx v_\\phi$ (laser group velocity is approximately plasma phase velocity)\n",
    "\n",
    "- $v_\\phi = \\frac{\\omega_\\mathrm{pe}}{k_\\mathrm{pe}}$ plasma phase velocity\n",
    "- $k_p = \\frac{\\omega_\\mathrm{pe}}{c}$ plasma wave number\n",
    "- $\\beta_p = \\frac{v_\\phi}{c}$ normalized plasma phase velocity "
   ]
  },
  {
   "cell_type": "code",
   "execution_count": 4,
   "metadata": {
    "ExecuteTime": {
     "end_time": "2021-11-19T09:12:29.247475Z",
     "start_time": "2021-11-19T09:12:29.241574Z"
    }
   },
   "outputs": [],
   "source": [
    "v_phi = v_g\n",
    "\n",
    "# plasma wave number\n",
    "kp = omega_pe / const.speed_of_light # [m^-1]\n",
    "\n",
    "# normalized plasma phase velocity \n",
    "betap = v_phi / const.speed_of_light"
   ]
  },
  {
   "cell_type": "markdown",
   "metadata": {},
   "source": [
    "How long will a plama wave be approximately?"
   ]
  },
  {
   "cell_type": "code",
   "execution_count": 5,
   "metadata": {
    "ExecuteTime": {
     "end_time": "2021-11-19T09:12:29.263823Z",
     "start_time": "2021-11-19T09:12:29.252505Z"
    }
   },
   "outputs": [
    {
     "name": "stdout",
     "output_type": "stream",
     "text": [
      "Plasma wave length: 33.38943270215429 µm\n"
     ]
    }
   ],
   "source": [
    "print(\"Plasma wave length:\", 2*np.pi*const.speed_of_light/omega_pe/1e-6, \"µm\")"
   ]
  },
  {
   "cell_type": "markdown",
   "metadata": {},
   "source": [
    "## Collect parameters"
   ]
  },
  {
   "cell_type": "code",
   "execution_count": 6,
   "metadata": {
    "ExecuteTime": {
     "end_time": "2021-11-19T09:12:29.280728Z",
     "start_time": "2021-11-19T09:12:29.267978Z"
    }
   },
   "outputs": [
    {
     "name": "stdout",
     "output_type": "stream",
     "text": [
      "{'a0': 1.5, 'kp': 188178.85776101233, 'betap': 0.9997129257495452, 'omega_pe': 56414602311806.266}\n"
     ]
    }
   ],
   "source": [
    "param = {}\n",
    "param[\"a0\"] = a0\n",
    "param[\"kp\"] = kp\n",
    "param[\"betap\"] = betap\n",
    "param[\"omega_pe\"] = omega_pe\n",
    "\n",
    "print(param)"
   ]
  },
  {
   "cell_type": "markdown",
   "metadata": {},
   "source": [
    "# Setup analytical laser description"
   ]
  },
  {
   "cell_type": "markdown",
   "metadata": {},
   "source": [
    "comoving coordinates where the plasma density and the laser will be described on (domain of a function)\n",
    "$$ \\xi = z - c \\cdot t $$\n",
    "(more precisely it should not be $c$ but $v_g$). "
   ]
  },
  {
   "cell_type": "code",
   "execution_count": 7,
   "metadata": {
    "ExecuteTime": {
     "end_time": "2021-11-19T09:12:29.300106Z",
     "start_time": "2021-11-19T09:12:29.291247Z"
    }
   },
   "outputs": [],
   "source": [
    "xi = np.linspace(-80e-6, 20e-6, 20000)[::-1] # [m] (inverse order)"
   ]
  },
  {
   "cell_type": "markdown",
   "metadata": {},
   "source": [
    "## laser envelope\n",
    "assuming a simple Gaussian envelope\n",
    "$$ \\hat{E}(\\xi) = a_0 \\cdot \\mathrm{e}^{-\\left(\\frac{\\xi}{\\tau}\\right)^2} $$"
   ]
  },
  {
   "cell_type": "code",
   "execution_count": 8,
   "metadata": {
    "ExecuteTime": {
     "end_time": "2021-11-19T09:12:29.330715Z",
     "start_time": "2021-11-19T09:12:29.324300Z"
    }
   },
   "outputs": [],
   "source": [
    "def calc_laser_env(xi, a0=1.0, L=tau):\n",
    "    return a0 * np.exp(-xi**2 / L**2)"
   ]
  },
  {
   "cell_type": "markdown",
   "metadata": {},
   "source": [
    "## laser with oscilation\n",
    "$$ E(\\xi) = \\hat{E}(\\xi) \\cdot \\cos(2 \\pi \\xi/\\lambda_0) $$"
   ]
  },
  {
   "cell_type": "code",
   "execution_count": 9,
   "metadata": {
    "ExecuteTime": {
     "end_time": "2021-11-19T09:12:29.357950Z",
     "start_time": "2021-11-19T09:12:29.347148Z"
    }
   },
   "outputs": [],
   "source": [
    "def calc_laser(xi, a0=1.0, L=tau, lambda0=lambda_0):\n",
    "    return calc_laser_env(xi, a0, L) * np.cos(2. * np.pi * xi / lambda0)"
   ]
  },
  {
   "cell_type": "markdown",
   "metadata": {},
   "source": [
    "## visualize laser"
   ]
  },
  {
   "cell_type": "code",
   "execution_count": 10,
   "metadata": {
    "ExecuteTime": {
     "end_time": "2021-11-19T09:12:30.172859Z",
     "start_time": "2021-11-19T09:12:29.369149Z"
    }
   },
   "outputs": [
    {
     "data": {
      "image/png": "[encoded data removed]",
      "text/plain": [
       "<Figure size 432x288 with 1 Axes>"
      ]
     },
     "metadata": {
      "needs_background": "light"
     },
     "output_type": "display_data"
    }
   ],
   "source": [
    "plt.plot(xi/1e-6, calc_laser(xi), label=r\"$E(\\xi)$\")\n",
    "plt.plot(xi/1e-6, calc_laser_env(xi), label=r\"$\\hat{E}(\\xi)$\")\n",
    "\n",
    "plt.legend(loc=2, fontsize=16)\n",
    "\n",
    "plt.xlabel(r\"$\\xi \\, \\mathrm{[\\mu m]}$\", fontsize=18)\n",
    "plt.xticks(fontsize=14)\n",
    "\n",
    "plt.ylabel(r\"$E \\, \\mathrm{[a_0]}$\", fontsize=18)\n",
    "plt.yticks(fontsize=14)\n",
    "\n",
    "plt.tight_layout()\n",
    "plt.show()"
   ]
  },
  {
   "cell_type": "markdown",
   "metadata": {
    "ExecuteTime": {
     "end_time": "2021-11-16T12:32:33.721296Z",
     "start_time": "2021-11-16T12:32:33.717685Z"
    }
   },
   "source": [
    "# Analytical 1D plasma wake model"
   ]
  },
  {
   "cell_type": "markdown",
   "metadata": {},
   "source": [
    "Compute potential $\\Phi$ induced by the laser's ponderomotive force to derive the relevant quantities accelerating electric field $E_z$ and electron density $n_e$ from that potential. \n",
    "\n",
    "## Solve for normalized potential $\\Psi$\n",
    "Definition of normalized potential $\\Psi$\n",
    "$$ \\Psi (\\xi) = \\frac{q_e \\cdot \\Phi(\\xi)}{m_e c^2} $$"
   ]
  },
  {
   "cell_type": "markdown",
   "metadata": {},
   "source": [
    "### Differential equation to compute $\\Psi$\n",
    "\n",
    "$$ \\frac{\\partial^2 \\Psi}{\\partial \\xi^2} = k_p^2 \\gamma_p^2 \\left[ \\beta_p \\left( 1 - \\frac{1+a^2(\\xi)}{\\gamma_p^2 (1 + \\Psi(\\xi))} \\right)^{-1/2} -1 \\right] $$"
   ]
  },
  {
   "cell_type": "code",
   "execution_count": 11,
   "metadata": {
    "ExecuteTime": {
     "end_time": "2021-11-19T09:12:30.196933Z",
     "start_time": "2021-11-19T09:12:30.179868Z"
    }
   },
   "outputs": [],
   "source": [
    "# differential equation\n",
    "\n",
    "def ode_potential_d2Phi_d2xi(Phi, xi):\n",
    "    k_p = param[\"kp\"]\n",
    "    beta_p = param[\"betap\"]\n",
    "    gamma_p = 1./np.sqrt(1 - beta_p**2)\n",
    "    a = calc_laser_env(xi, a0=param[\"a0\"])\n",
    "    localPhi = Phi[0]\n",
    "    d2Phi_d2xi = k_p**2 * gamma_p**2 * (beta_p / np.sqrt(1. - (1+a**2)/(gamma_p**2 * (1. + localPhi)**2)) -1.)\n",
    "    return [Phi[1], d2Phi_d2xi]"
   ]
  },
  {
   "cell_type": "markdown",
   "metadata": {},
   "source": [
    "### Start values\n",
    "We know that in front of the laser (at $\\xi \\rightarrow \\infty$), both the (normalize) potential $\\Psi$ and its derivative $\\Psi^\\prime = \\frac{\\partial \\Psi}{\\partial \\xi}$ are zero. "
   ]
  },
  {
   "cell_type": "code",
   "execution_count": 12,
   "metadata": {
    "ExecuteTime": {
     "end_time": "2021-11-19T09:12:30.235323Z",
     "start_time": "2021-11-19T09:12:30.201874Z"
    }
   },
   "outputs": [],
   "source": [
    "# start value\n",
    "\n",
    "Phi0 = np.array([0., 0.])\n",
    "Phi = odeint(ode_potential_d2Phi_d2xi, Phi0, xi)"
   ]
  },
  {
   "cell_type": "markdown",
   "metadata": {},
   "source": [
    "## Derive accelerating electric field from potential\n",
    "\n",
    "$$ \\frac{E_z(\\xi)}{E_0} = - \\frac{c}{\\omega_\\mathrm{pe}} \\frac{\\partial \\Psi(\\xi)}{\\partial \\xi} $$"
   ]
  },
  {
   "cell_type": "code",
   "execution_count": 13,
   "metadata": {
    "ExecuteTime": {
     "end_time": "2021-11-19T09:12:30.249973Z",
     "start_time": "2021-11-19T09:12:30.240674Z"
    }
   },
   "outputs": [],
   "source": [
    "# electric field from potential\n",
    "\n",
    "def calc_Ez_per_E0(Phi, xi):\n",
    "    c = const.speed_of_light\n",
    "    omega_p = param[\"omega_pe\"]\n",
    "    delta_xi =  xi[1] - xi[0]\n",
    "    # ATTENTION: minus sign added\n",
    "    return -c/omega_p *  np.diff(Phi[:,0]) / delta_xi / param[\"a0\"]"
   ]
  },
  {
   "cell_type": "code",
   "execution_count": 14,
   "metadata": {
    "ExecuteTime": {
     "end_time": "2021-11-19T09:12:30.266109Z",
     "start_time": "2021-11-19T09:12:30.255121Z"
    }
   },
   "outputs": [],
   "source": [
    "E = calc_Ez_per_E0(Phi, xi)"
   ]
  },
  {
   "cell_type": "markdown",
   "metadata": {},
   "source": [
    "## Derive density from potential\n",
    "\n",
    "$$ \\frac{n_e(\\xi)}{n_0} = \\gamma_p^2 \\beta_p \\left[ \\left( 1 - \\frac{1 + a^1(\\xi)}{\\gamma_p^2 ( 1 + \\Psi(\\xi) )^2} \\right)^{-1/2} - \\beta_p \\right] $$"
   ]
  },
  {
   "cell_type": "code",
   "execution_count": 15,
   "metadata": {
    "ExecuteTime": {
     "end_time": "2021-11-19T09:12:30.282764Z",
     "start_time": "2021-11-19T09:12:30.270681Z"
    }
   },
   "outputs": [],
   "source": [
    "# density from potential\n",
    "\n",
    "def calc_density(Phi, xi):\n",
    "    k_p = param[\"kp\"]\n",
    "    beta_p = param[\"betap\"]\n",
    "    gamma_p = 1./np.sqrt(1 - beta_p**2)\n",
    "    a = calc_laser_env(xi, a0=param[\"a0\"])\n",
    "    localPhi = Phi[:, 0]\n",
    "    return  gamma_p**2 * beta_p * ( 1.0/ np.sqrt(1. - (1+a**2)/(gamma_p**2 * (1. + localPhi)**2)) - beta_p)\n"
   ]
  },
  {
   "cell_type": "code",
   "execution_count": 16,
   "metadata": {
    "ExecuteTime": {
     "end_time": "2021-11-19T09:12:30.298547Z",
     "start_time": "2021-11-19T09:12:30.288819Z"
    }
   },
   "outputs": [],
   "source": [
    "np_per_n0 = calc_density(Phi, xi)"
   ]
  },
  {
   "cell_type": "markdown",
   "metadata": {},
   "source": [
    "# Visualize laser wakefield"
   ]
  },
  {
   "cell_type": "code",
   "execution_count": 17,
   "metadata": {
    "ExecuteTime": {
     "end_time": "2021-11-19T09:12:31.029140Z",
     "start_time": "2021-11-19T09:12:30.305529Z"
    }
   },
   "outputs": [
    {
     "data": {
      "image/png": "[encoded data removed]",
      "text/plain": [
       "<Figure size 864x360 with 1 Axes>"
      ]
     },
     "metadata": {
      "needs_background": "light"
     },
     "output_type": "display_data"
    }
   ],
   "source": [
    "plt.figure(figsize=(12,5))\n",
    "\n",
    "# laser envelop\n",
    "plt.plot(xi/1e-6, \n",
    "         calc_laser_env(xi, a0=param[\"a0\"]), \n",
    "         color=\"red\", \n",
    "         lw=1.5, \n",
    "         label=r\"$E_\\mathrm{laser}\\, [a_0]$\")\n",
    "\n",
    "# laser with oscilation \n",
    "plt.plot(xi/1e-6, \n",
    "         calc_laser(xi, a0=param[\"a0\"]), \n",
    "         color=\"red\", \n",
    "         lw=0.5)\n",
    "\n",
    "# accelerating electric field\n",
    "plt.plot(xi[1:]/1e-6, \n",
    "         E, \n",
    "         \"-\", \n",
    "         lw=3, \n",
    "         color=\"C1\", \n",
    "         label=r\"$E_z \\, [E_0]$\")\n",
    "# mark accelerating as green and decelerating as red\n",
    "plt.fill_between(xi[1:]/1e-6, \n",
    "                 E, 0, where=E <= 0, \n",
    "                 facecolor='green', alpha=0.5, )\n",
    "plt.fill_between(xi[1:]/1e-6, \n",
    "                 E, 0, where=E > 0, \n",
    "                 facecolor='red', alpha=0.5, )\n",
    "\n",
    "# density\n",
    "plt.plot(xi/1e-6, np_per_n0-1., lw=2, color=\"gray\", label=\"$n_e/n_0 -1$\")\n",
    "\n",
    "# potential\n",
    "plt.plot(xi/1e-6, Phi[:, 0], \":\", color=\"C0\", lw=2, label=r\"$\\Phi \\, [q_e/m_e c^2]$\")\n",
    "\n",
    "# mark laser (peak) strength\n",
    "plt.text(5, 0.75*param[\"a0\"], r\"$a_0 = {:2.1f}$\".format(param[\"a0\"]), fontsize=20)\n",
    "\n",
    "# labels\n",
    "plt.xlabel(r\"$z \\ \\mathrm{[\\mu m]}$\", fontsize=18)\n",
    "plt.xticks(fontsize=14)\n",
    "\n",
    "plt.ylabel(\"normalized scale\", fontsize=18)\n",
    "plt.yticks(fontsize=14)\n",
    "\n",
    "plt.xlim(-80, 20)\n",
    "plt.ylim(-2.0, 2.0)\n",
    "\n",
    "plt.legend(loc=3, fontsize=18)\n",
    "\n",
    "plt.tight_layout()\n",
    "plt.show()\n"
   ]
  },
  {
   "cell_type": "code",
   "execution_count": null,
   "metadata": {},
   "outputs": [],
   "source": []
  }
 ],
 "metadata": {
  "hide_input": false,
  "kernelspec": {
   "display_name": "Python 3",
   "language": "python",
   "name": "python3"
  },
  "language_info": {
   "codemirror_mode": {
    "name": "ipython",
    "version": 3
   },
   "file_extension": ".py",
   "mimetype": "text/x-python",
   "name": "python",
   "nbconvert_exporter": "python",
   "pygments_lexer": "ipython3",
   "version": "3.8.10"
  },
  "latex_envs": {
   "LaTeX_envs_menu_present": true,
   "autoclose": false,
   "autocomplete": false,
   "bibliofile": "biblio.bib",
   "cite_by": "apalike",
   "current_citInitial": 1,
   "eqLabelWithNumbers": true,
   "eqNumInitial": 1,
   "hotkeys": {
    "equation": ""
   },
   "labels_anchors": false,
   "latex_user_defs": false,
   "report_style_numbering": false,
   "user_envs_cfg": false
  },
  "toc": {
   "base_numbering": 1,
   "nav_menu": {},
   "number_sections": true,
   "sideBar": true,
   "skip_h1_title": false,
   "title_cell": "Table of Contents",
   "title_sidebar": "Contents",
   "toc_cell": false,
   "toc_position": {},
   "toc_section_display": true,
   "toc_window_display": false
  },
  "varInspector": {
   "cols": {
    "lenName": 16,
    "lenType": 16,
    "lenVar": 40
   },
   "kernels_config": {
    "python": {
     "delete_cmd_postfix": "",
     "delete_cmd_prefix": "del ",
     "library": "var_list.py",
     "varRefreshCmd": "print(var_dic_list())"
    },
    "r": {
     "delete_cmd_postfix": ") ",
     "delete_cmd_prefix": "rm(",
     "library": "var_list.r",
     "varRefreshCmd": "cat(var_dic_list()) "
    }
   },
   "types_to_exclude": [
    "module",
    "function",
    "builtin_function_or_method",
    "instance",
    "_Feature"
   ],
   "window_display": false
  }
 },
 "nbformat": 4,
 "nbformat_minor": 2
}
