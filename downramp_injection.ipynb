{
 "cells": [
  {
   "cell_type": "markdown",
   "metadata": {},
   "source": [
    "# Downramp injection\n",
    "\n",
    "Downramp injection is a injection method employed in LWFA and PWFA to inject electrons into the plasma cavity for later acceleration. "
   ]
  },
  {
   "cell_type": "code",
   "execution_count": 1,
   "metadata": {
    "ExecuteTime": {
     "end_time": "2021-07-12T10:42:03.587612Z",
     "start_time": "2021-07-12T10:42:00.971332Z"
    }
   },
   "outputs": [],
   "source": [
    "# load modules\n",
    "import matplotlib.pyplot as plt\n",
    "import sympy as sym\n",
    "import numpy as np\n",
    "import scipy.constants as const\n",
    "%matplotlib inline"
   ]
  },
  {
   "cell_type": "markdown",
   "metadata": {},
   "source": [
    "## Downramp injection in PWFA"
   ]
  },
  {
   "cell_type": "markdown",
   "metadata": {},
   "source": [
    "### define phase position $\\chi$ of single electron\n",
    "\n",
    "Define a phase (position) of an electron at lob-frame position $z$."
   ]
  },
  {
   "cell_type": "code",
   "execution_count": 2,
   "metadata": {
    "ExecuteTime": {
     "end_time": "2021-07-12T10:42:03.718072Z",
     "start_time": "2021-07-12T10:42:03.623119Z"
    }
   },
   "outputs": [],
   "source": [
    "# placeholder\n",
    "x = sym.symbols('x')  # speed of light\n",
    "\n",
    "# constants\n",
    "c = sym.symbols('c', positive=True)  # speed of light\n",
    "q_e = sym.symbols('e', positive=True)  # electron charge\n",
    "m_e = sym.symbols('m_e', positive=True)  # electron mass\n",
    "epsilon_0 = sym.symbols('varepsilon_0', positive=True)  # electric permeability\n",
    "\n",
    "# coordinates\n",
    "z = sym.symbols('z', real=True)  # longitudinal position lab frame\n",
    "t = sym.symbols('t', real=True)  # time lab frame\n",
    "chi = sym.symbols('chi', real=True)  # longitudinal comoving position\n",
    "\n",
    "\n",
    "# driver beam parameters\n",
    "beta_b = sym.symbols('beta_b', positive=True)  # velocity of driver\n",
    "\n",
    "# witness electron parameters\n",
    "beta_e = sym.symbols('beta_e', positive=True)  # velocity of driver\n",
    "\n",
    "# plasma parameters\n",
    "beta_phi = sym.symbols('beta_phi', positive=True)  # plasma phase velocity\n",
    "n = sym.Function('n', positive=True)(z)  # plasma density\n",
    "omega_pe = sym.symbols('omega_pe', positive=True)  # plasma frequency\n",
    "omega_pe_eq = sym.sqrt(n * q_e**2 / (m_e * epsilon_0))\n",
    "k_pe = sym.symbols('k_pe', positive=True)  # velocity of driver\n",
    "k_pe_eq = omega_pe / c\n",
    "\n",
    "\n",
    "chi_eq = k_pe * (z - beta_b * t * c)"
   ]
  },
  {
   "cell_type": "markdown",
   "metadata": {},
   "source": [
    "Plasma frequency:\n",
    "$$ \\omega_{pe} = \\sqrt{\\frac{e^2 n(z)}{\\varepsilon_0 m_e}} $$\n",
    "\n",
    "Plasma wave number:\n",
    "$$ k_{pe} = \\frac{\\omega_{pe}}{c} $$\n",
    "\n",
    "Comoving phase position:\n",
    "$$ \\chi = k_{pe} \\cdot \\left( z - \\beta_b c t  \\right) $$\n"
   ]
  },
  {
   "cell_type": "markdown",
   "metadata": {},
   "source": [
    "### change of phase position $\\chi$ along logitudinal coordinate $z$\n",
    "\n",
    "How does the electron's phase position (at lab frame position $z$) changes with that position $z$?"
   ]
  },
  {
   "cell_type": "code",
   "execution_count": 3,
   "metadata": {
    "ExecuteTime": {
     "end_time": "2021-07-12T10:42:04.358485Z",
     "start_time": "2021-07-12T10:42:03.756358Z"
    }
   },
   "outputs": [
    {
     "data": {
      "text/latex": [
       "$\\displaystyle \\frac{\\chi \\frac{d}{d z} n{\\left(z \\right)}}{2 n{\\left(z \\right)}} + k_{pe} \\left(- \\frac{\\beta_{b}}{\\beta_{e}} + 1\\right)$"
      ],
      "text/plain": [
       "chi*Derivative(n(z), z)/(2*n(z)) + k_pe*(-beta_b/beta_e + 1)"
      ]
     },
     "execution_count": 3,
     "metadata": {},
     "output_type": "execute_result"
    }
   ],
   "source": [
    "d_chi_d_z_eq = sym.diff(chi_eq.subs(t, z/(c*beta_e)).subs(k_pe, k_pe_eq).subs(omega_pe, omega_pe_eq), z).subs(omega_pe_eq, omega_pe).subs(omega_pe_eq/n, omega_pe / n).subs(k_pe_eq, k_pe).subs(z/beta_e, c*t).subs(chi_eq, chi)\n",
    "\n",
    "d_chi_d_z_eq"
   ]
  },
  {
   "cell_type": "markdown",
   "metadata": {},
   "source": [
    "change of phase position:\n",
    "    $$ \\frac{\\mathrm{d} \\chi}{\\mathrm{d} z} =\\frac{\\chi}{2 n} \\frac{\\mathrm{d}n}{\\mathrm{d} z} +   k_{pe} \\cdot \\left(1 - \\frac{\\beta_b}{\\beta_e} \\right)  $$"
   ]
  },
  {
   "cell_type": "markdown",
   "metadata": {},
   "source": [
    "### Determine plasma phase velocity $\\beta_\\phi$\n",
    "If an electron does not change its phase position ($\\frac{\\mathrm{d} \\chi}{\\mathrm{d} z} = 0$) its velocity $\\beta_e$ equals the plasma phase velocity $\\beta_\\phi$. "
   ]
  },
  {
   "cell_type": "code",
   "execution_count": 38,
   "metadata": {
    "ExecuteTime": {
     "end_time": "2021-07-12T11:13:43.309205Z",
     "start_time": "2021-07-12T11:13:43.243971Z"
    }
   },
   "outputs": [],
   "source": [
    "beta_e_for_diff_eqal_zero_eq = sym.simplify(sym.solve(sym.Eq(d_chi_d_z_eq, 0), beta_e)[0]) \n",
    "\n",
    "beta_phi_eq = beta_b * 1/(1 + chi/(2 * k_pe * n) * sym.diff(n,z))\n",
    "\n",
    "if not beta_phi_eq.equals(beta_e_for_diff_eqal_zero_eq):\n",
    "    print(\"False\")\n",
    "None"
   ]
  },
  {
   "cell_type": "markdown",
   "metadata": {},
   "source": [
    "Plasma phase velocity: \n",
    "$$ \\beta_\\phi = \\beta_{b} \\left( 1 + \\frac{\\chi}{2 k_{pe} n^{3/2}} \\frac{\\mathrm{d}n}{\\mathrm{d}z}   \\right)^{-1} $$"
   ]
  },
  {
   "cell_type": "markdown",
   "metadata": {},
   "source": [
    "### Simplifying the phase velocity $\\frac{\\mathrm{d} \\chi}{\\mathrm{d} z}$"
   ]
  },
  {
   "cell_type": "code",
   "execution_count": 5,
   "metadata": {
    "ExecuteTime": {
     "end_time": "2021-07-12T10:42:04.708894Z",
     "start_time": "2021-07-12T10:42:04.577507Z"
    }
   },
   "outputs": [],
   "source": [
    "chi_dn_dz_divdedBy_2_k_n = chi * sym.diff(n, z) / (2 * k_pe * n)\n",
    "chi_dn_dz_divdedBy_2_k_n_eq = sym.solve(\n",
    "    sym.Eq(beta_phi_eq, beta_phi), chi_dn_dz_divdedBy_2_k_n)[0]"
   ]
  },
  {
   "cell_type": "code",
   "execution_count": 6,
   "metadata": {
    "ExecuteTime": {
     "end_time": "2021-07-12T10:42:04.854639Z",
     "start_time": "2021-07-12T10:42:04.755014Z"
    }
   },
   "outputs": [],
   "source": [
    "d_chi_d_z_eq2 = sym.simplify(d_chi_d_z_eq.subs(\n",
    "    chi_dn_dz_divdedBy_2_k_n * k_pe, chi_dn_dz_divdedBy_2_k_n_eq * k_pe))\n",
    "\n",
    "d_chi_d_z_eq3 = beta_b * k_pe * (1/beta_phi - 1/beta_e)\n",
    "\n",
    "if not d_chi_d_z_eq3.equals(d_chi_d_z_eq2):\n",
    "    print(\"False\")\n",
    "None"
   ]
  },
  {
   "cell_type": "markdown",
   "metadata": {},
   "source": [
    "$$ \\frac{\\mathrm{d}\\chi}{\\mathrm{d}z} = k_{pe} \\beta_{b} \\left( \\frac{1}{\\beta_\\phi}  - \\frac{1}{\\beta_e}\\right) $$"
   ]
  },
  {
   "cell_type": "markdown",
   "metadata": {},
   "source": [
    "### Trapping condition"
   ]
  },
  {
   "cell_type": "code",
   "execution_count": 7,
   "metadata": {
    "ExecuteTime": {
     "end_time": "2021-07-12T10:42:05.062299Z",
     "start_time": "2021-07-12T10:42:04.897448Z"
    }
   },
   "outputs": [
    {
     "data": {
      "text/latex": [
       "$\\displaystyle \\beta_{\\phi} \\leq \\beta_{e}$"
      ],
      "text/plain": [
       "beta_phi <= beta_e"
      ]
     },
     "execution_count": 7,
     "metadata": {},
     "output_type": "execute_result"
    }
   ],
   "source": [
    "sym.solve(1/beta_phi - 1/beta_e >= 0, beta_e )"
   ]
  },
  {
   "cell_type": "markdown",
   "metadata": {},
   "source": [
    "For electron trapping, $\\frac{\\mathrm{d} \\chi}{\\mathrm{d} z} \\geq 0$ and thus it is required that $\\beta_\\phi \\leq \\beta_{e}$."
   ]
  },
  {
   "cell_type": "code",
   "execution_count": null,
   "metadata": {},
   "outputs": [],
   "source": []
  },
  {
   "cell_type": "code",
   "execution_count": null,
   "metadata": {},
   "outputs": [],
   "source": []
  },
  {
   "cell_type": "markdown",
   "metadata": {},
   "source": [
    "### Plotting for later "
   ]
  },
  {
   "cell_type": "code",
   "execution_count": 24,
   "metadata": {
    "ExecuteTime": {
     "end_time": "2021-07-12T11:04:01.878677Z",
     "start_time": "2021-07-12T11:04:01.871667Z"
    }
   },
   "outputs": [],
   "source": [
    "z_np = np.linspace(0,12., 256)\n",
    "peak_height_np = 10.\n",
    "sigma_peak_np = 2.5\n",
    "n_np = 1. + (peak_height_np-1.) * np.exp(-z_np**2/(2*sigma_peak_np**2))\n",
    "\n",
    "beta_b_np = 1.0\n",
    "beta_phi_np = beta_b_np / (1. + -2.*np.pi/2. *n_np[1:]**(-3./2.) * np.diff(n_np)/(z_np[1]-z_np[0]))\n"
   ]
  },
  {
   "cell_type": "code",
   "execution_count": 45,
   "metadata": {
    "ExecuteTime": {
     "end_time": "2021-07-12T11:20:52.584437Z",
     "start_time": "2021-07-12T11:20:51.897311Z"
    }
   },
   "outputs": [
    {
     "data": {
      "image/png": "[encoded data removed]",
      "text/plain": [
       "<Figure size 432x288 with 2 Axes>"
      ]
     },
     "metadata": {},
     "output_type": "display_data"
    }
   ],
   "source": [
    "plt.figure(facecolor=\"w\")\n",
    "\n",
    "plt.plot(z_np, n_np, color=\"black\", lw=2)\n",
    "plt.xlim(0,12)\n",
    "plt.ylim(0, 10.5)\n",
    "\n",
    "plt.xlabel(r\"$z \\, \\mathrm{[k_p^{-1}]} $\", fontsize=18)\n",
    "plt.xticks(fontsize=14)\n",
    "\n",
    "plt.ylabel(r\"$n_e\\,[n_0]$\", fontsize=18)\n",
    "plt.yticks(fontsize=14)\n",
    "\n",
    "plt.twinx()\n",
    "\n",
    "plt.plot(z_np[1:], beta_phi_np, color=\"red\", lw=3)\n",
    "\n",
    "#plt.plot(z_np[1:], (1-2.*np.pi/2.*np.diff(n_np)/z_np[1])**-1, \"--\", color=\"orange\", lw=2)\n",
    "\n",
    "plt.ylabel(r\"$\\beta_\\phi $\", fontsize=18, color=\"red\")\n",
    "plt.yticks(fontsize=14, color=\"red\")\n",
    "\n",
    "#plt.plot(z_np, 0.6/np.sqrt(n_np), \"--\", color=\"C0\")\n",
    "#plt.plot(z_np, 0.8/np.sqrt(n_np), \"--\", color=\"C2\")\n",
    "#plt.fill_between(z_np[1:], 0.8/np.sqrt(n_np[1:]), beta_phi_np, where=np.greater_equal(0.8/np.sqrt(n_np[1:]), beta_phi_np), color=\"C1\")\n",
    "\n",
    "\n",
    "plt.ylim(0, 1)\n",
    "plt.show()"
   ]
  },
  {
   "cell_type": "markdown",
   "metadata": {
    "ExecuteTime": {
     "end_time": "2021-02-05T17:33:56.222992Z",
     "start_time": "2021-02-05T17:33:56.174682Z"
    }
   },
   "source": [
    "I do not understand this $\\beta_\\phi$, it looks realy different to Alberto's plot see [Alberto Martinez de la Ossa et al. PRAB 2017](https://doi.org/10.1103/PhysRevAccelBeams.20.091301) Figure 1 (a). "
   ]
  },
  {
   "cell_type": "code",
   "execution_count": 41,
   "metadata": {
    "ExecuteTime": {
     "end_time": "2021-07-12T11:18:43.860221Z",
     "start_time": "2021-07-12T11:18:43.848430Z"
    }
   },
   "outputs": [],
   "source": [
    "plt.figure?"
   ]
  },
  {
   "cell_type": "code",
   "execution_count": null,
   "metadata": {},
   "outputs": [],
   "source": []
  }
 ],
 "metadata": {
  "hide_input": false,
  "kernelspec": {
   "display_name": "Python 3",
   "language": "python",
   "name": "python3"
  },
  "language_info": {
   "codemirror_mode": {
    "name": "ipython",
    "version": 3
   },
   "file_extension": ".py",
   "mimetype": "text/x-python",
   "name": "python",
   "nbconvert_exporter": "python",
   "pygments_lexer": "ipython3",
   "version": "3.8.8"
  },
  "latex_envs": {
   "LaTeX_envs_menu_present": true,
   "autoclose": false,
   "autocomplete": true,
   "bibliofile": "biblio.bib",
   "cite_by": "apalike",
   "current_citInitial": 1,
   "eqLabelWithNumbers": true,
   "eqNumInitial": 1,
   "hotkeys": {
    "equation": ""
   },
   "labels_anchors": false,
   "latex_user_defs": false,
   "report_style_numbering": false,
   "user_envs_cfg": false
  },
  "toc": {
   "base_numbering": 1,
   "nav_menu": {},
   "number_sections": true,
   "sideBar": true,
   "skip_h1_title": false,
   "title_cell": "Table of Contents",
   "title_sidebar": "Contents",
   "toc_cell": false,
   "toc_position": {},
   "toc_section_display": true,
   "toc_window_display": true
  },
  "varInspector": {
   "cols": {
    "lenName": 16,
    "lenType": 16,
    "lenVar": 40
   },
   "kernels_config": {
    "python": {
     "delete_cmd_postfix": "",
     "delete_cmd_prefix": "del ",
     "library": "var_list.py",
     "varRefreshCmd": "print(var_dic_list())"
    },
    "r": {
     "delete_cmd_postfix": ") ",
     "delete_cmd_prefix": "rm(",
     "library": "var_list.r",
     "varRefreshCmd": "cat(var_dic_list()) "
    }
   },
   "types_to_exclude": [
    "module",
    "function",
    "builtin_function_or_method",
    "instance",
    "_Feature"
   ],
   "window_display": false
  }
 },
 "nbformat": 4,
 "nbformat_minor": 4
}
